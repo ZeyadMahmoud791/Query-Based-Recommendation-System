{
 "cells": [
  {
   "cell_type": "code",
   "execution_count": 2,
   "metadata": {},
   "outputs": [],
   "source": [
    "import fasttext\n",
    "import numpy as np\n",
    "import senteval\n",
    "import senteval.engine\n",
    "\n",
    "from preprocess import preprocess"
   ]
  },
  {
   "cell_type": "code",
   "execution_count": 3,
   "metadata": {},
   "outputs": [
    {
     "name": "stdout",
     "output_type": "stream",
     "text": [
      "True\n",
      "NVIDIA GeForce RTX 2060\n"
     ]
    }
   ],
   "source": [
    "import torch\n",
    "print(torch.cuda.is_available())\n",
    "print(torch.cuda.get_device_name(0) if torch.cuda.is_available() else \"No CUDA device found\")"
   ]
  },
  {
   "cell_type": "code",
   "execution_count": 4,
   "metadata": {},
   "outputs": [],
   "source": [
    "def batcher(params: dict, batch: list[list[str]]):\n",
    "    model = params[\"model\"]\n",
    "    sentences = [\" \".join(tokens) for tokens in batch]\n",
    "    sentences = [preprocess(sentence) for sentence in sentences]\n",
    "    embeddings = [model.get_sentence_vector(sentence) for sentence in sentences]\n",
    "    return np.array(embeddings)\n",
    "\n",
    "def evaluate(model_name: str):\n",
    "    model = fasttext.load_model(f\"models/{model_name}/model.bin\")\n",
    "    se = senteval.engine.SE(\n",
    "        params={\n",
    "            \"task_path\": \"./data\",\n",
    "            \"usepytorch\": False,\n",
    "            \"model\": model,\n",
    "        },\n",
    "        batcher=batcher,\n",
    "    )\n",
    "    return se.eval([\"STSBenchmark\", \"SICKRelatedness\"])"
   ]
  },
  {
   "cell_type": "code",
   "execution_count": 5,
   "metadata": {},
   "outputs": [
    {
     "name": "stderr",
     "output_type": "stream",
     "text": [
      "c:\\bahaaWaa2\\fasttext\\preprocess.py:13: MarkupResemblesLocatorWarning: The input looks more like a filename than markup. You may want to open this file and pass the filehandle into Beautiful Soup.\n",
      "  text = bs4.BeautifulSoup(text, \"html.parser\").get_text()\n",
      "c:\\bahaaWaa2\\fasttext\\preprocess.py:13: MarkupResemblesLocatorWarning: The input looks more like a filename than markup. You may want to open this file and pass the filehandle into Beautiful Soup.\n",
      "  text = bs4.BeautifulSoup(text, \"html.parser\").get_text()\n"
     ]
    },
    {
     "data": {
      "text/plain": [
       "{'STSBenchmark': {'devpearson': 0.7582449438022215,\n",
       "  'pearson': 0.6566804830515196,\n",
       "  'spearman': 0.6570145765611611,\n",
       "  'mse': 1.533234035180191,\n",
       "  'yhat': array([2.15068829, 1.95850046, 1.99806645, ..., 3.69713277, 3.73834193,\n",
       "         3.4640295 ]),\n",
       "  'ndev': 1500,\n",
       "  'ntest': 1379},\n",
       " 'SICKRelatedness': {'devpearson': 0.7493884812763058,\n",
       "  'pearson': 0.750127279355567,\n",
       "  'spearman': 0.6188631478522657,\n",
       "  'mse': 0.44532020448988174,\n",
       "  'yhat': array([2.26351474, 3.87570367, 1.05863823, ..., 3.73737081, 3.99276663,\n",
       "         4.13148674]),\n",
       "  'ndev': 500,\n",
       "  'ntest': 4927}}"
      ]
     },
     "execution_count": 5,
     "metadata": {},
     "output_type": "execute_result"
    }
   ],
   "source": [
    "evaluate(model_name=\"cbow-300\")"
   ]
  },
  {
   "cell_type": "code",
   "execution_count": 7,
   "metadata": {},
   "outputs": [
    {
     "name": "stderr",
     "output_type": "stream",
     "text": [
      "c:\\bahaaWaa2\\fasttext\\preprocess.py:13: MarkupResemblesLocatorWarning: The input looks more like a filename than markup. You may want to open this file and pass the filehandle into Beautiful Soup.\n",
      "  text = bs4.BeautifulSoup(text, \"html.parser\").get_text()\n",
      "c:\\bahaaWaa2\\fasttext\\preprocess.py:13: MarkupResemblesLocatorWarning: The input looks more like a filename than markup. You may want to open this file and pass the filehandle into Beautiful Soup.\n",
      "  text = bs4.BeautifulSoup(text, \"html.parser\").get_text()\n"
     ]
    },
    {
     "data": {
      "text/plain": [
       "{'STSBenchmark': {'devpearson': 0.7572775685986125,\n",
       "  'pearson': 0.6577306342711853,\n",
       "  'spearman': 0.6591548860719196,\n",
       "  'mse': 1.5385954969345816,\n",
       "  'yhat': array([2.2437307 , 1.90932599, 2.20185072, ..., 3.72475329, 3.76128937,\n",
       "         3.54415373]),\n",
       "  'ndev': 1500,\n",
       "  'ntest': 1379},\n",
       " 'SICKRelatedness': {'devpearson': 0.757374412812026,\n",
       "  'pearson': 0.7492449334032484,\n",
       "  'spearman': 0.6205331572018444,\n",
       "  'mse': 0.44721855107553615,\n",
       "  'yhat': array([3.16511013, 3.91810059, 1.01254228, ..., 3.43609562, 4.03274303,\n",
       "         4.1775888 ]),\n",
       "  'ndev': 500,\n",
       "  'ntest': 4927}}"
      ]
     },
     "execution_count": 7,
     "metadata": {},
     "output_type": "execute_result"
    }
   ],
   "source": [
    "evaluate(model_name=\"cbow-300-default\")"
   ]
  },
  {
   "cell_type": "code",
   "execution_count": 8,
   "metadata": {},
   "outputs": [
    {
     "name": "stderr",
     "output_type": "stream",
     "text": [
      "c:\\bahaaWaa2\\fasttext\\preprocess.py:13: MarkupResemblesLocatorWarning: The input looks more like a filename than markup. You may want to open this file and pass the filehandle into Beautiful Soup.\n",
      "  text = bs4.BeautifulSoup(text, \"html.parser\").get_text()\n",
      "c:\\bahaaWaa2\\fasttext\\preprocess.py:13: MarkupResemblesLocatorWarning: The input looks more like a filename than markup. You may want to open this file and pass the filehandle into Beautiful Soup.\n",
      "  text = bs4.BeautifulSoup(text, \"html.parser\").get_text()\n"
     ]
    },
    {
     "data": {
      "text/plain": [
       "{'STSBenchmark': {'devpearson': 0.7574455092666968,\n",
       "  'pearson': 0.6503540111722347,\n",
       "  'spearman': 0.6546787360727105,\n",
       "  'mse': 1.5520568811017421,\n",
       "  'yhat': array([2.23092577, 1.93793401, 1.97176552, ..., 3.71433933, 3.74879795,\n",
       "         3.51791616]),\n",
       "  'ndev': 1500,\n",
       "  'ntest': 1379},\n",
       " 'SICKRelatedness': {'devpearson': 0.7244545900002768,\n",
       "  'pearson': 0.7445994716998314,\n",
       "  'spearman': 0.6126717069030698,\n",
       "  'mse': 0.45370780680852785,\n",
       "  'yhat': array([3.06755047, 3.86533583, 1.00140402, ..., 3.55201603, 4.00198343,\n",
       "         4.14197291]),\n",
       "  'ndev': 500,\n",
       "  'ntest': 4927}}"
      ]
     },
     "execution_count": 8,
     "metadata": {},
     "output_type": "execute_result"
    }
   ],
   "source": [
    "evaluate(model_name=\"skipgram-300-default\")"
   ]
  },
  {
   "cell_type": "code",
   "execution_count": 9,
   "metadata": {},
   "outputs": [
    {
     "name": "stderr",
     "output_type": "stream",
     "text": [
      "c:\\bahaaWaa2\\fasttext\\preprocess.py:13: MarkupResemblesLocatorWarning: The input looks more like a filename than markup. You may want to open this file and pass the filehandle into Beautiful Soup.\n",
      "  text = bs4.BeautifulSoup(text, \"html.parser\").get_text()\n",
      "c:\\bahaaWaa2\\fasttext\\preprocess.py:13: MarkupResemblesLocatorWarning: The input looks more like a filename than markup. You may want to open this file and pass the filehandle into Beautiful Soup.\n",
      "  text = bs4.BeautifulSoup(text, \"html.parser\").get_text()\n"
     ]
    },
    {
     "data": {
      "text/plain": [
       "{'STSBenchmark': {'devpearson': 0.7722644003313113,\n",
       "  'pearson': 0.699760538824385,\n",
       "  'spearman': 0.6864169654946871,\n",
       "  'mse': 1.3794074405581056,\n",
       "  'yhat': array([1.98113038, 1.38803504, 1.73000027, ..., 3.84465029, 3.91753221,\n",
       "         3.51790507]),\n",
       "  'ndev': 1500,\n",
       "  'ntest': 1379},\n",
       " 'SICKRelatedness': {'devpearson': 0.7399497063112649,\n",
       "  'pearson': 0.7704026296896912,\n",
       "  'spearman': 0.6457025965930945,\n",
       "  'mse': 0.4145651948976424,\n",
       "  'yhat': array([2.2199348 , 3.61858781, 1.00043939, ..., 3.75805776, 3.8675019 ,\n",
       "         4.16258069]),\n",
       "  'ndev': 500,\n",
       "  'ntest': 4927}}"
      ]
     },
     "execution_count": 9,
     "metadata": {},
     "output_type": "execute_result"
    }
   ],
   "source": [
    "evaluate(model_name=\"pretrained\")"
   ]
  },
  {
   "cell_type": "code",
   "execution_count": 5,
   "metadata": {},
   "outputs": [
    {
     "name": "stderr",
     "output_type": "stream",
     "text": [
      "c:\\bahaaWaa2\\fasttext\\preprocess.py:13: MarkupResemblesLocatorWarning: The input looks more like a filename than markup. You may want to open this file and pass the filehandle into Beautiful Soup.\n",
      "  text = bs4.BeautifulSoup(text, \"html.parser\").get_text()\n",
      "c:\\bahaaWaa2\\fasttext\\preprocess.py:13: MarkupResemblesLocatorWarning: The input looks more like a filename than markup. You may want to open this file and pass the filehandle into Beautiful Soup.\n",
      "  text = bs4.BeautifulSoup(text, \"html.parser\").get_text()\n"
     ]
    },
    {
     "data": {
      "text/plain": [
       "{'STSBenchmark': {'devpearson': 0.7562020866135934,\n",
       "  'pearson': 0.6641948679986213,\n",
       "  'spearman': 0.6572811012906445,\n",
       "  'mse': 1.4311542552175271,\n",
       "  'yhat': array([1.9737691 , 1.62806711, 2.08961052, ..., 3.95394052, 3.9009156 ,\n",
       "         3.53364154]),\n",
       "  'ndev': 1500,\n",
       "  'ntest': 1379},\n",
       " 'SICKRelatedness': {'devpearson': 0.7599352749950791,\n",
       "  'pearson': 0.7512608783547287,\n",
       "  'spearman': 0.6234612616025729,\n",
       "  'mse': 0.4442296544011046,\n",
       "  'yhat': array([2.53432852, 3.8379614 , 1.0014275 , ..., 3.83733679, 3.96035554,\n",
       "         4.13801533]),\n",
       "  'ndev': 500,\n",
       "  'ntest': 4927}}"
      ]
     },
     "execution_count": 5,
     "metadata": {},
     "output_type": "execute_result"
    }
   ],
   "source": [
    "evaluate(model_name=\"skipgram-300\")"
   ]
  }
 ],
 "metadata": {
  "kernelspec": {
   "display_name": ".venv",
   "language": "python",
   "name": "python3"
  },
  "language_info": {
   "codemirror_mode": {
    "name": "ipython",
    "version": 3
   },
   "file_extension": ".py",
   "mimetype": "text/x-python",
   "name": "python",
   "nbconvert_exporter": "python",
   "pygments_lexer": "ipython3",
   "version": "3.11.0"
  }
 },
 "nbformat": 4,
 "nbformat_minor": 2
}
